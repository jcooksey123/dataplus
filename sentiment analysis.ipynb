{
 "cells": [
  {
   "cell_type": "markdown",
   "metadata": {},
   "source": [
    "#Sample Sentiment Analysis\n",
    "---\n",
    "This takes a smaple article that I found (from Breitbart, https://www.breitbart.com/politics/2016/02/11/hispanic-celebrities-vote-against-anti-immigrant-anti-latino-gop-presidential-field/) and performs a simple sentiment analysis on it.\n",
    "\n",
    "\n",
    "This is useful in that we can scale this up and perform a sentiment analysis on many articles and analyze the data that we recieve."
   ]
  },
  {
   "cell_type": "code",
   "execution_count": 3,
   "metadata": {},
   "outputs": [],
   "source": [
    "import nltk\n",
    "from nltk.sentiment.vader import SentimentIntensityAnalyzer"
   ]
  },
  {
   "cell_type": "code",
   "execution_count": 4,
   "metadata": {},
   "outputs": [],
   "source": [
    "text = '''In a missive penned in both English and Spanish, celebrities like actor Benjamin Bratt, actress America Ferrera, singer Carlos Santana, and comedian George Lopez accuse the GOP presidential field of promoting an “anti-immigrant, anti-Latino agenda.”\n",
    "\n",
    "“There’s no coming back from this,” the letter, a project of the liberal People for the American Way, reads. “We’ve seen clearly that all the leading Republican candidates have sided with the far-right at the expense of the Latino community. They’re capitalizing on negative stereotypes and inaccurate information about our community in order to win votes from the GOP base.”\n",
    "\n",
    "The letter takes particular aim at GOP frontrunner Donald Trump for his comments about illegal immigrants and for kicking Univision anchor Jorge Ramos out of a press conference. Ramos was allowed back into the event shortly thereafter. The authors do not, however, exempt the rest of the field from criticism.\n",
    "\n",
    "“Candidates – including supposed ‘moderates’ like Jeb Bush and Marco Rubio – used dangerous, divisive rhetoric and proposed harmful policies in their efforts to win over Trump’s radical supporters,” the celebrities write. “Jeb Bush’s unapologetic use of the term ‘anchor babies’ aligns with his belief that undocumented immigrants here in the U.S. should not have a path to citizenship.”\n",
    "\n",
    "The letter continues, chastising Bush for saying, “We should not have a multicultural society” and Rubio for saying, “We must secure our border, the physical border, with a wall, absolutely.”\n",
    "\n",
    "“The candidates cannot come back from these hardline stances. Trump is certainly an outlier for his racist remarks. But the rest of the Republican presidential candidates went off the deep end with him,” the letter reads.\n",
    "\n",
    "“Our communities have the power to decide who wins in the 2016 election. We hope that power is used to vote for candidates who support our community, share our values, and will fight for working families. Neither Trump nor any of his fellow Republican candidates meet that standard,” it added.\n",
    "\n",
    "The celebrities who signed the letter include: Yancey Arias, Esteban Benito, Benjamin Bratt, Peter Bratt, Raúl Castillo, Ivonne Coll, Wilson Cruz, Giselle Fernandez, America Ferrera, Mike Gomez, Lisa Guerrero, Dolores Huerta, Eva LaRue, George Lopez, Rick Najera, José-Luis Orozco, Aubrey Plaza, Steven Michael Quezada, Judy Reyes, Zoe Saldana, Miguel Sandoval, Carlos Santana, Lauren Vélez.'''\n"
   ]
  },
  {
   "cell_type": "code",
   "execution_count": 10,
   "metadata": {},
   "outputs": [
    {
     "name": "stdout",
     "output_type": "stream",
     "text": [
      "compound:0.8886, neg:0.068, neu:0.836, pos:0.096, "
     ]
    }
   ],
   "source": [
    "sid = SentimentIntensityAnalyzer()\n",
    "scores = sid.polarity_scores(text)\n",
    "for key in sorted(scores):\n",
    "    print('{0}:{1}, '.format(key, scores[key]), end='')"
   ]
  },
  {
   "cell_type": "markdown",
   "metadata": {},
   "source": [
    "Conclusion:\n",
    "\n",
    "Vader(nltk analyzer) breaks the text into keys, and then rates the keys from -1 to 1 based on the sentiment of the word (it is pretrained?). Then it returns a compund score based on the average of all the key scores in the text. As we can see here, the compound is .886, which is quite positive."
   ]
  },
  {
   "cell_type": "code",
   "execution_count": null,
   "metadata": {},
   "outputs": [],
   "source": []
  }
 ],
 "metadata": {
  "kernelspec": {
   "display_name": "Python 3",
   "language": "python",
   "name": "python3"
  },
  "language_info": {
   "codemirror_mode": {
    "name": "ipython",
    "version": 3
   },
   "file_extension": ".py",
   "mimetype": "text/x-python",
   "name": "python",
   "nbconvert_exporter": "python",
   "pygments_lexer": "ipython3",
   "version": "3.7.7"
  }
 },
 "nbformat": 4,
 "nbformat_minor": 4
}
