{
 "cells": [
  {
   "cell_type": "markdown",
   "metadata": {},
   "source": [
    "#Fox News Scraper\n",
    "---\n",
    "Uses newspaper package to download, parse, and perform nltk on  articles on the fox news headlines."
   ]
  },
  {
   "cell_type": "code",
   "execution_count": 58,
   "metadata": {},
   "outputs": [],
   "source": [
    "import newspaper"
   ]
  },
  {
   "cell_type": "code",
   "execution_count": 59,
   "metadata": {},
   "outputs": [],
   "source": [
    "fox_paper = newspaper.build('https://www.foxnews.com/')"
   ]
  },
  {
   "cell_type": "code",
   "execution_count": 60,
   "metadata": {
    "scrolled": true
   },
   "outputs": [
    {
     "name": "stdout",
     "output_type": "stream",
     "text": [
      "Minneapolis George Floyd video compares to Kaepernick taking a knee, another Eric Garner 'I can't breathe' case, activists say\n",
      "Celebrities, advocates and politicians from both sides of the aisle are calling for the arrest of four Minneapolis police officers, who were fired Tuesday in connection with the death of a black man seen pinned down, the officer's knee to his neck, in a recent video surfaced online.\n",
      "\n",
      "“I would like for those officers to be charged with murder,” said George Floyd's sister, who appeared on NBC’s “Today” Wednesday morning.\n",
      "\n",
      "“Because that’s exactly what they did,” Bridgett Floyd said. “They murdered my brother, he was crying for help. I don’t need them to be suspended and able to work in another state or county. Their license should be taken away, their job should be taken away, and they should be put in jail for murder.”\n",
      "\n",
      "In the video recorded by a bystander, Floyd, 46, is seen on the ground, with one white officer holding a knee to his neck, gasping and repeatedly telling the officer, “I can’t breathe.” He later died in custody.\n",
      "\n",
      "Police were responding to an alleged forgery taking place. A man matching Floyd's description allegedly used a counterfeit bill.\n",
      "\n",
      "PROTESTERS CLASH WITH MINNEAPOLIS POLICE AFTER GEORGE FLOYD'S DEATH\n",
      "\n",
      "Benjamin Crump, an attorney for the family, said the video showed “a non-violent crime was met with this kind of violent, lethal, excessive force,” as the officer was on Floyd’s neck for “nine minutes while he was begging to breathe, begging for life.”\n",
      "\n",
      "“It’s an ‘I Can’t Breathe’ again case in 2020, and it’s worse than Eric Gardner in many ways because you hear the people even pleading with them. Please, get your knee off his neck, have some humanity. This is a human being,” Crump said.\n",
      "\n",
      "The FBI has been called in to aid local police in the investigation into Floyd's death, which immediately drew comparisons to the case of Eric Garner, an unarmed black man who died in 2014 in New York after he was placed in a chokehold by police and pleaded for his life, heard in another video saying, “I can’t breathe.”\n",
      "\n",
      "That video and phrase soon galvanized the “Black Lives Matter” movement. In the Garner case, family and activists pleaded for five years before the officer, Daniel Pantaleo, was removed from the force in 2019, though he never faced federal charges.\n",
      "\n",
      "LEBRON JAMES, OTHER STAR ATHLETES SPEAK OUT ON GEORGE FLOYD'S DEATH\n",
      "\n",
      "Following the Minneapolis officers’ dismissal Tuesday, law enforcement faced added scrutiny, as police in the streets of Minneapolis deployed tear gas and shot rubber bullets to calm protesters.\n",
      "\n",
      "Thousands filled an intersection in the street where Floyd died, chanting and carrying banners that read, “I can’t breathe” and “Jail killer KKKops.” Crowds began to swell outside the department’s 3rd Precinct, with some protesters damaging windows and a squad car.\n",
      "\n",
      "“Shooting rubber bullets and tear gas at unarmed protesters when there are children present should never be tolerated. Ever,” Democratic Rep. Ilhan Omar, whose district includes Minneapolis, tweeted. “What is happening tonight in our city is shameful. Police need to exercise restraint, and our community needs space to heal.”\n",
      "\n",
      "Joe Biden, the presumptive Democratic presidential nominee, also reacted to the case on Twitter, writing: “George Floyd deserved better and his family deserves justice. His life mattered.”\n",
      "\n",
      "“I'm grateful for the swift action in Minneapolis to fire the officers involved — they must be held responsible for their egregious actions. The FBI should conduct a thorough investigation.”\n",
      "\n",
      "Activists, including Bernice King, daughter of Martin Luther King Jr., shared a side-by-side photo of the Minneapolis officer kneeling on Floyd’s neck and former NFL quarterback Colin Kaepernick taking a knee during the national anthem in 2016 to protest police brutality and other social issues.\n",
      "\n",
      "“If you’re unbothered or mildly bothered by the 1st knee, but outraged by the 2nd, then, in my father’s words, you’re “more devoted to order than to justice.” And more passionate about an anthem that supposedly symbolizes freedom than you are about a Black man’s freedom to live,” King wrote.\n",
      "\n",
      "She added: “And you’re more caring concerning a flag than you are concerning a fellow human being. That’s inhumane, tragic and unjust. That’s dangerous for Black people and deadly for #GeorgeFloyd.”\n",
      "\n",
      "Minnesota’s Democratic leaders, including Sens. Amy Klobuchar and Tina Smith, and Reps. Ilhan Omar and Betty McCollum, sent a letter to U.S. Attorney Erica MacDonald and Hennepin County Attorney Mike Freeman to urge a “thorough investigations at all levels.\n",
      "\n",
      "House Minority Leader Kevin McCarthy, a Republican from California, retweeted a message from Republican Sen. Tim Scott, who is black, which called for the four Minneapolis officers to be arrested.\n",
      "\n",
      "“Firing the officers that killed #GeorgeFloyd was the right first move. The second? Arrest them. #icantbreathe,” Scott, from South Carolina, tweeted.\n",
      "\n",
      "The officers in the Minneapolis incident haven’t been publicly identified, though one defense attorney has confirmed he is representing Derek Chauvin, the officer seen with his knee on Floyd’s neck. The attorney, Tom Kelly, declined to comment further.\n",
      "\n",
      "The medical examiner’s office has not released Floyd’s official cause of death.\n",
      "\n",
      "Minneapolis Police Chief Medaria Arradondo said the department would conduct a full internal investigation, and prosecutors will decide whether to file criminal charges against the officers involved. The FBI has been called into investigating whether the officers willfully deprived Floyd of his civil rights.\n",
      "\n",
      "In Minneapolis, kneeling on a suspect’s neck is allowed under the department’s use-of-force policy for officers who have received training in how to compress a neck without applying direct pressure to the airway. It is considered a “non-deadly force option,” according to the department’s policy handbook.\n",
      "\n",
      "CLICK HERE TO GET THE FOX NEWS APP\n",
      "\n",
      "A chokehold is considered a deadly force option and involves someone obstructing the airway. According to the department’s use-of-force policy, officers are to use only an amount of force necessary that would be objectively reasonable.\n",
      "\n",
      "But use-of-force experts told The Associated Press that the video showed that the officer clearly restrained the man too long, noting the man was under control and no longer fighting.\n",
      "\n",
      "The Associated Press contributed to this report.\n"
     ]
    }
   ],
   "source": [
    "article1 = fox_paper.articles[0]\n",
    "article1.download()\n",
    "article1.parse()\n",
    "article1.nlp()\n",
    "print(article1.title)\n",
    "print(article1.text)"
   ]
  },
  {
   "cell_type": "code",
   "execution_count": 61,
   "metadata": {},
   "outputs": [
    {
     "name": "stdout",
     "output_type": "stream",
     "text": [
      "Keywords in article:  ['garner', 'floyd', 'floyds', 'man', 'officer', 'say', 'taking', 'neck', 'force', 'officers', 'knee', 'kaepernick', 'eric', 'minneapolis', 'black', 'george', 'video']\n"
     ]
    }
   ],
   "source": [
    "print('Keywords in article: ',article1.keywords)"
   ]
  }
 ],
 "metadata": {
  "kernelspec": {
   "display_name": "Python 3",
   "language": "python",
   "name": "python3"
  },
  "language_info": {
   "codemirror_mode": {
    "name": "ipython",
    "version": 3
   },
   "file_extension": ".py",
   "mimetype": "text/x-python",
   "name": "python",
   "nbconvert_exporter": "python",
   "pygments_lexer": "ipython3",
   "version": "3.7.7"
  }
 },
 "nbformat": 4,
 "nbformat_minor": 4
}
